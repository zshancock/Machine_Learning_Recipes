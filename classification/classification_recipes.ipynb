{
 "cells": [
  {
   "cell_type": "markdown",
   "metadata": {},
   "source": [
    "### Classification recipes\n",
    "#### Zac Hancock(zshancock@gmail.com)\n",
    "\n",
    "Recall that preprocessing needs to be conducted before performing these tasks. Generally the assumption is made that data is \n",
    "in (X_train, y_train)( X_test, y_test) format. Refer to regression_recipes.ipynb for regression code.\n",
    "\n",
    "\n",
    "Contents: \n",
    "- Naive Bayes\n",
    "- Decision Tree\n",
    "- Random Forrest"
   ]
  },
  {
   "cell_type": "code",
   "execution_count": null,
   "metadata": {},
   "outputs": [],
   "source": [
    "# Naive Bayes\n",
    "\n",
    "from sklearn.naive_bayes import GaussianNB\n",
    "from sklearn.metrics import confusion_matrix\n",
    "\n",
    "# Initialize the naive bayes classifier\n",
    "\n",
    "nb_classifier = GaussianNB()\n",
    "nb_classifier.fit(X_train, y_train)\n",
    "\n",
    "# Make a prediction\n",
    "\n",
    "y_pred = nb_classifier.predict(X_test)\n",
    "\n",
    "# Confusion Matrix\n",
    "\n",
    "conf_matrix = confusion_matrix(y_test, y_pred)\n",
    "\n",
    "\n"
   ]
  },
  {
   "cell_type": "code",
   "execution_count": null,
   "metadata": {},
   "outputs": [],
   "source": [
    "# Decision Tree (note: Preprocessing does not need scaling, since decision tree algorithms do not use Euclidean Distance)\n",
    "\n",
    "from sklearn import tree\n",
    "from sklearn.tree import DecisionTreeClassifier\n",
    "from sklearn.metrics import confusion_matrix\n",
    "import graphviz\n",
    "\n",
    "# Initialize the decision tree classifier\n",
    "\n",
    "dt_classifier = DecisionTreeClassifier(criterion = 'entropy', random_state = 0)\n",
    "dt_classifier.fit(X_train, y_train)\n",
    "\n",
    "# Make a prediction\n",
    "\n",
    "y_pred = dt_classifier.predict(X_test)\n",
    "\n",
    "# Confusion Matrix\n",
    "\n",
    "conf_matrix = confusion_matrix(y_test, y_pred)\n",
    "\n",
    "# Visualize the decision tree\n",
    "\n",
    "dot_data = tree.export_graphviz(dt_classifier, out_file=None) \n",
    "graph = graphviz.Source(dot_data) \n",
    "graph.render(\"dt\") \n",
    "dot_data = tree.export_graphviz(dt_classifier, out_file=None, filled = True, rounded= True)\n",
    "graph = graphviz.Source(dot_data)  \n",
    "\n",
    "# Visualize inline\n",
    "graph\n",
    "\n"
   ]
  },
  {
   "cell_type": "code",
   "execution_count": null,
   "metadata": {},
   "outputs": [],
   "source": [
    "# Random Forest\n",
    "\n",
    "from sklearn.ensemble import RandomForestClassifier\n",
    "\n",
    "from sklearn.metrics import confusion_matrix\n",
    "\n"
    "# Initialize the random forest classifier (n_estimators is the 'number of trees')\n",
    "\n",
    "rf_classifier = RandomForestClassifier(n_estimators = 10, criterion = 'entropy', random_state = 0)\n",
    "rf_classifier.fit(X_train, y_train)\n",
    "\n",
    "# Make a prediction\n",
    "\n",
    "y_pred = rf_classifier.predict(X_test)\n",
    "\n",
    "# Confusion matrix\n",
    "\n",
    "conf_matrix = confusion_matrix(y_test, y_pred)\n",
    "\n"
   ]
  }
 ],
 "metadata": {
  "kernelspec": {
   "display_name": "Python 3",
   "language": "python",
   "name": "python3"
  },
  "language_info": {
   "codemirror_mode": {
    "name": "ipython",
    "version": 3
   },
   "file_extension": ".py",
   "mimetype": "text/x-python",
   "name": "python",
   "nbconvert_exporter": "python",
   "pygments_lexer": "ipython3",
   "version": "3.6.5"
  }
 },
 "nbformat": 4,
 "nbformat_minor": 2
}
