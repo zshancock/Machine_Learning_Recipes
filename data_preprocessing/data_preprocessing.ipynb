{
 "cells": [
  {
   "cell_type": "code",
   "execution_count": 3,
   "metadata": {},
   "outputs": [],
   "source": [
    "'''\n",
    "Data Preprocessing recipes\n",
    "\n",
    "Zac Hancock (zshancock@gmail.com)\n",
    "\n",
    "'''\n",
    "\n",
    "# Import Libraries needed. \n",
    "import numpy as np\n",
    "import matplotlib.pyplot as plt\n",
    "import pandas as pd\n",
    "\n",
    "from sklearn.model_selection import train_test_split # Note : formally cross_Validation, but that library is deprecated\n",
    "from sklearn.preprocessing import Imputer, LabelEncoder, OneHotEncoder, StandardScaler, MinMaxScaler"
   ]
  },
  {
   "cell_type": "code",
   "execution_count": null,
   "metadata": {},
   "outputs": [],
   "source": [
    "'''\n",
    "# Import dataset\n",
    "\n",
    "data = pd.read_csv('../data.csv') # path to file of interest\n",
    "\n",
    "# divide into x, y (features, labels)\n",
    "\n",
    "x_features = data.iloc[:,:] # index appropriately\n",
    "y_labels = data.iloc[:,:] # index appropriately\n",
    "\n",
    "'''"
   ]
  },
  {
   "cell_type": "code",
   "execution_count": null,
   "metadata": {},
   "outputs": [],
   "source": [
    "# Dealing with NaN values in the data, if present\n",
    "\n",
    "# Find out if the data contains NA values\n",
    "\n",
    "data.isnull().any().any() # returns a boolean if any are present (Note: if true, consider addressing before the x, y division)\n",
    "data.isnull().sum().sum() # returns the number of NaNs in the dataframe\n",
    "\n",
    "# Removal of NaNs from dataframe (do before x_features, y_labels)\n",
    "\n",
    "data.dropna() # drops incomplete rows\n",
    "data.dropna(axis = 'columns') # drops any column with atleast 1 missing entry\n",
    "df.dropna(subset=['feature1', 'feature2', ...]) # drops rows that have NAs in specific columns\n",
    "\n",
    "\n",
    "# If NOT going to remove use Imputer\n",
    "\n",
    "'''\n",
    "Imputer\n",
    "missing_values - 0 or NaN (default is NaN) \n",
    "strategy - how to replace NaN values (mean, median, most_frequent)\n",
    "axis - 0 = columns (default), 1 = rows\n",
    "'''\n",
    "\n",
    "imputer = Imputer(missing_values = 'NaN', strategy = 'mean', axis = 0)\n",
    "imputer = imputer.fit(x_features[:,:]) # index appropriately\n",
    "x_features[:,:] = imputer.transform(x_features[:,:])\n"
   ]
  },
  {
   "cell_type": "code",
   "execution_count": null,
   "metadata": {},
   "outputs": [],
   "source": [
    "# Address any categorical features\n",
    "\n",
    "# labelEncoder is good for binary (yes/no, etc) - or categories that are related (low/medium/high, etc.)\n",
    "\n",
    "encoder_x = LabelEncoder()\n",
    "X[:,:] = encoder_x.fit_transform(X[:,:]) #index appropriately (index to categorical features)\n",
    "\n",
    "# if inappropriate to use labelencoder, OneHotEncode.\n",
    "\n",
    "'''\n",
    "OneHotEncode\n",
    "categorical_features = which features are the categorical features? which index/column?\n",
    "\n",
    "'''\n",
    "\n",
    "one_hot = OneHotEncoder(categorical_features = [0]) # index appropriately (i.e. [0] is the first column)\n",
    "x_features = one_hot.fit_transform(x_features).toarray()\n",
    "\n"
   ]
  },
  {
   "cell_type": "code",
   "execution_count": null,
   "metadata": {},
   "outputs": [],
   "source": [
    "# With an X, Y matrix (x - features, y - labels)\n",
    "\n",
    "# how large is the hold-out data set, i.e. 20%\n",
    "\n",
    "test_size = 0.2\n",
    "\n",
    "# into X/Y Train/Test. \n",
    "\n",
    "X_train, X_test, y_train, y_test = train_test_split(x_features, y_labels, test_size = test_size, random_state = 0)"
   ]
  },
  {
   "cell_type": "code",
   "execution_count": null,
   "metadata": {},
   "outputs": [],
   "source": [
    "# Scaling features if necessary using StandScaler\n",
    "# StandardScaler will return a distribution that has a mean = 0\n",
    "\n",
    "scale_X = StandardScaler()\n",
    "X_train = scale_X.fit_transform(X_train)\n",
    "X_test = scale_X.transform(X_test) # do not need to fit again (already fit on X_train)\n",
    "\n",
    "\n",
    "# Now the labels for y_train (only necessary for regression problems, not Classification problems)\n",
    "scale_y = StandardScaler()\n",
    "y_train = scale_y.fit_transform(y_train)\n",
    "y_test = scale_y.transform(y_test)\n"
   ]
  },
  {
   "cell_type": "code",
   "execution_count": null,
   "metadata": {},
   "outputs": [],
   "source": [
    "# Alternatively, scale using MinMaxScaler\n",
    "# MinMaxScaler will return the Maximum value as 1 and the minimum values as 0, with all the other data falling between 0-1\n",
    "\n",
    "x_minmax_scaler = MinMaxScaler()\n",
    "X_train = x_minmax_scaler.fit_transform(X_train)\n",
    "X_test = x_minmax_scaler.transform(X_test)\n",
    "\n",
    "# If necessary (i.e. regression not classification.)\n",
    "y_minmax_scaler = MinMaxScaler()\n",
    "y_train = y_minmax_scaler.fit_transform(y_train)\n",
    "y_test = y_minmax_scaler.transform(y_test)"
   ]
  }
 ],
 "metadata": {
  "kernelspec": {
   "display_name": "Python 3",
   "language": "python",
   "name": "python3"
  },
  "language_info": {
   "codemirror_mode": {
    "name": "ipython",
    "version": 3
   },
   "file_extension": ".py",
   "mimetype": "text/x-python",
   "name": "python",
   "nbconvert_exporter": "python",
   "pygments_lexer": "ipython3",
   "version": "3.6.5"
  }
 },
 "nbformat": 4,
 "nbformat_minor": 2
}
